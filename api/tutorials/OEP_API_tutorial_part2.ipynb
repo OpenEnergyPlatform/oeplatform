{
 "cells": [
  {
   "cell_type": "markdown",
   "metadata": {},
   "source": [
    "<img src=\"http://193.175.187.164/static/OEP_logo_2_no_text.svg\" alt=\"OpenEnergy Platform\" height=\"100\" width=\"100\"  align=\"left\"/>\n",
    "\n",
    "\n",
    "# OpenEnergy Platform\n",
    "<br>"
   ]
  },
  {
   "cell_type": "code",
   "execution_count": null,
   "metadata": {
    "collapsed": true
   },
   "outputs": [],
   "source": [
    "__copyright__ = \"Reiner Lemoine Institut, Zentrum für nachhaltige Energiesysteme Flensburg\"\n",
    "__license__   = \"GNU Affero General Public License Version 3 (AGPL-3.0)\"\n",
    "__url__       = \"https://github.com/openego/data_processing/blob/master/LICENSE\"\n",
    "__author__    = \"wolfbunke, Ludee\""
   ]
  },
  {
   "cell_type": "markdown",
   "metadata": {},
   "source": [
    "# Tutorial - How to work with the OpenEnergy Platform (OEP)\n",
    "\n",
    "<br>\n",
    "<div class=\"alert alert-block alert-danger\">\n",
    "This is an important information!\n",
    "</div>\n",
    "<div class=\"alert alert-block alert-info\">\n",
    "This is an information!\n",
    "</div>\n",
    "<div class=\"alert alert-block alert-success\">\n",
    "This is your task!\n",
    "</div>\n",
    "\n",
    "This tutorial gives you an overview of the [**OpenEnergy Platform**](http://oep.iks.cs.ovgu.de/) and how you can work with the **RESTful-HTTP** API in Python. <br>\n",
    "The full API documentaion can be found on [ReadtheDocs.io](http://oep-data-interface.readthedocs.io/en/latest/api/how_to.html#authenticate \"OpenEnergyPlatform’s documentation\").\n",
    "\n",
    "\n",
    "## Part II\n",
    "\n",
    "0 Setup token <br>\n",
    "1 Select data from a table <br>\n",
    "2 Include filters <br>\n",
    "3 More Options"
   ]
  },
  {
   "cell_type": "markdown",
   "metadata": {},
   "source": [
    "# Part II\n",
    "\n",
    "## 0. Setup token\n",
    "<br>\n",
    "<div class=\"alert alert-block alert-danger\">\n",
    "Do not push your token to GitHub!\n",
    "</div>"
   ]
  },
  {
   "cell_type": "code",
   "execution_count": null,
   "metadata": {
    "collapsed": true
   },
   "outputs": [],
   "source": [
    "import requests\n",
    "import pandas as pd\n",
    "from IPython.core.display import HTML\n",
    "\n",
    "from token_config import oep_url, get_oep_token\n",
    "\n",
    "# token\n",
    "your_token = get_oep_token()"
   ]
  },
  {
   "cell_type": "markdown",
   "metadata": {},
   "source": [
    "## 1. Select data from a table"
   ]
  },
  {
   "cell_type": "code",
   "execution_count": null,
   "metadata": {
    "collapsed": false
   },
   "outputs": [],
   "source": [
    "# select data\n",
    "schema = 'model_draft'\n",
    "table = 'example_api_table_test'\n",
    "\n",
    "get_data = requests.get(oep_url+'/api/v0/schema/'+schema+'/tables/'+table+'/rows/')\n",
    "get_data.status_code"
   ]
  },
  {
   "cell_type": "markdown",
   "metadata": {},
   "source": [
    "<div class=\"alert alert-block alert-info\">\n",
    "**200** succesfully selected data! <br>\n",
    "</div>"
   ]
  },
  {
   "cell_type": "code",
   "execution_count": null,
   "metadata": {
    "collapsed": false,
    "scrolled": false
   },
   "outputs": [],
   "source": [
    "# Convert to dataframe\n",
    "plant_df = pd.DataFrame(get_data.json())\n",
    "plant_df"
   ]
  },
  {
   "cell_type": "markdown",
   "metadata": {},
   "source": [
    "## 2. Include filters\n",
    "### 2.1 where"
   ]
  },
  {
   "cell_type": "code",
   "execution_count": null,
   "metadata": {
    "collapsed": false
   },
   "outputs": [],
   "source": [
    "schema = 'model_draft'\n",
    "table = 'example_api_table_test'\n",
    "where = 'type=wind_onshore'\n",
    "\n",
    "result = requests.get(oep_url+'/api/v0/schema/'+schema+'/tables/'+table+'/rows/?where='+where, )\n",
    "result.status_code\n",
    "\n",
    "# Convert to dataframe\n",
    "df = pd.DataFrame(result.json())\n",
    "df"
   ]
  },
  {
   "cell_type": "markdown",
   "metadata": {},
   "source": [
    "### 2.2 column"
   ]
  },
  {
   "cell_type": "code",
   "execution_count": null,
   "metadata": {
    "collapsed": false
   },
   "outputs": [],
   "source": [
    "schema = 'model_draft'\n",
    "table = 'example_api_table_test'\n",
    "column = 'column=name&column=id&column=type'\n",
    "\n",
    "result = requests.get(oep_url+'/api/v0/schema/'+schema+'/tables/'+table+'/rows/?'+column, )\n",
    "result.status_code\n",
    "\n",
    "# Convert to dataframe\n",
    "df = pd.DataFrame(result.json())\n",
    "df"
   ]
  },
  {
   "cell_type": "markdown",
   "metadata": {},
   "source": [
    "### 2.3 limit"
   ]
  },
  {
   "cell_type": "code",
   "execution_count": null,
   "metadata": {
    "collapsed": false
   },
   "outputs": [],
   "source": [
    "schema = 'model_draft'\n",
    "table = 'example_api_table_test'\n",
    "limit = '2'\n",
    "\n",
    "result = requests.get(oep_url+'/api/v0/schema/'+schema+'/tables/'+table+'/rows/?limit='+limit, )\n",
    "result.status_code\n",
    "\n",
    "# Convert to dataframe\n",
    "df = pd.DataFrame(result.json())\n",
    "df"
   ]
  },
  {
   "cell_type": "markdown",
   "metadata": {},
   "source": [
    "### 2.4 orderby"
   ]
  },
  {
   "cell_type": "code",
   "execution_count": null,
   "metadata": {
    "collapsed": false
   },
   "outputs": [],
   "source": [
    "schema = 'model_draft'\n",
    "table = 'example_api_table_test'\n",
    "order_by = 'id'\n",
    "\n",
    "result = requests.get(oep_url+'/api/v0/schema/'+schema+'/tables/'+table+'/rows/?orderby='+order_by, )\n",
    "result.status_code\n",
    "print(result)\n",
    "# Convert to dataframe\n",
    "df = pd.DataFrame(result.json())\n",
    "df\n"
   ]
  },
  {
   "cell_type": "markdown",
   "metadata": {},
   "source": [
    " "
   ]
  },
  {
   "cell_type": "code",
   "execution_count": null,
   "metadata": {
    "collapsed": false
   },
   "outputs": [],
   "source": [
    "schema = 'model_draft'\n",
    "table = 'example_api_table_test'\n",
    "order_by = 'id'\n",
    "limit = '2'\n",
    "\n",
    "result = requests.get(oep_url+'/api/v0/schema/'+schema+'/tables/'+table+'/rows/?limit='+limit+'&orderby='+order_by, )\n",
    "result.status_code\n",
    "print(result)\n",
    "# Convert to dataframe\n",
    "df = pd.DataFrame(result.json())\n",
    "df"
   ]
  },
  {
   "cell_type": "markdown",
   "metadata": {},
   "source": [
    "### 2.5 Combine filters "
   ]
  },
  {
   "cell_type": "code",
   "execution_count": null,
   "metadata": {
    "collapsed": false
   },
   "outputs": [],
   "source": [
    "schema = 'model_draft'\n",
    "table = 'example_api_table_test'\n",
    "where = 'type=photovoltaics'\n",
    "column = 'column=name&column=id&column=type'\n",
    "\n",
    "#result = requests.get(oep_url+'/api/v0/schema/'+schema+'/tables/'+table+'/rows/?where='+where+'&'+column, )\n",
    "#result = requests.get(oep_url+'/api/v0/schema/'+schema+'/tables/'+table+'/rows/?where=type=photovoltaics&column=name&column=id&column=type', )\n",
    "result.status_code\n",
    "\n",
    "# Convert to dataframe\n",
    "df = pd.DataFrame(result.json())\n",
    "df"
   ]
  },
  {
   "cell_type": "markdown",
   "metadata": {},
   "source": [
    "### 3. More Options\n",
    "\n",
    "There are also optional parameters for these GET-queries:\n",
    "\n",
    "**limit**: Limit the number of returned rows <br>\n",
    "**offset**: Ignore the specified amount of rows <br>\n",
    "**orderby**: Name of a column to refer when ordering <br>\n",
    "**column**: Name of a column to include in the results. If not present, all columns are returned <br>\n",
    "**where**: Constraint fourmulated as VALUE+OPERATOR+VALUE with <br>\n",
    "1 VALUE: Constant or name of a column <br>\n",
    "2 OPERATOR: One of the following: <br>\n",
    "* EQUALS or =, <br>\n",
    "* GREATER or >, <br>\n",
    "* LOWER or <, <br>\n",
    "* NOTEQUAL or != or <>, <br>\n",
    "* NOTGREATER or <=, <br>\n",
    "* NOTLOWER or >= <br>"
   ]
  },
  {
   "cell_type": "markdown",
   "metadata": {},
   "source": [
    "<div class=\"alert alert-block alert-success\">\n",
    "Try some selects!\n",
    "</div>"
   ]
  },
  {
   "cell_type": "code",
   "execution_count": null,
   "metadata": {
    "collapsed": true
   },
   "outputs": [],
   "source": []
  }
 ],
 "metadata": {
  "kernelspec": {
   "display_name": "Python 3",
   "language": "python",
   "name": "python3"
  },
  "language_info": {
   "codemirror_mode": {
    "name": "ipython",
    "version": 3
   },
   "file_extension": ".py",
   "mimetype": "text/x-python",
   "name": "python",
   "nbconvert_exporter": "python",
   "pygments_lexer": "ipython3",
   "version": "3.5.2"
  }
 },
 "nbformat": 4,
 "nbformat_minor": 1
}
