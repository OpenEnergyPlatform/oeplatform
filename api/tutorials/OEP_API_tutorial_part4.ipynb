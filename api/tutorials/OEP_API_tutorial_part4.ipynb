{
 "cells": [
  {
   "cell_type": "markdown",
   "metadata": {},
   "source": [
    "<img src=\"http://193.175.187.164/static/OEP_logo_2_no_text.svg\" alt=\"OpenEnergy Platform\" height=\"100\" width=\"100\"  align=\"left\"/>\n",
    "\n",
    "# OpenEnergy Platform\n",
    "<br>"
   ]
  },
  {
   "cell_type": "code",
   "execution_count": null,
   "metadata": {
    "collapsed": true
   },
   "outputs": [],
   "source": [
    "__copyright__ = \"Zentrum für nachhaltige Energiesysteme Flensburg\"\n",
    "__license__   = \"GNU Affero General Public License Version 3 (AGPL-3.0)\"\n",
    "__url__       = \"https://github.com/openego/data_processing/blob/master/LICENSE\"\n",
    "__author__    = \"wolfbunke\""
   ]
  },
  {
   "cell_type": "markdown",
   "metadata": {},
   "source": [
    "# Tutorial - How to work with the OpenEnergy Platform (OEP)\n",
    "\n",
    "<br>\n",
    "<div class=\"alert alert-block alert-danger\">\n",
    "This is an important information!\n",
    "</div>\n",
    "<div class=\"alert alert-block alert-info\">\n",
    "This is an information!\n",
    "</div>\n",
    "<div class=\"alert alert-block alert-success\">\n",
    "This is your task!\n",
    "</div>\n",
    "\n",
    "This tutorial gives you an overview of the [**OpenEnergy Platform**](http://oep.iks.cs.ovgu.de/) and how you can work with the **RESTful-HTTP** API in Python. <br>\n",
    "The full API documentaion can be found on [ReadtheDocs.io](http://oep-data-interface.readthedocs.io/en/latest/api/how_to.html#authenticate \"OpenEnergyPlatform’s documentation\").\n",
    "\n",
    "\n",
    "## Part IV\n",
    "\n",
    "0 Setup token <br>\n",
    "1 Select data <br>\n",
    "2 Make a pandas dataframe <br>\n",
    "3 Make calculations <br>\n",
    "4 Save results as csv and excel files <br>\n"
   ]
  },
  {
   "cell_type": "markdown",
   "metadata": {},
   "source": [
    "# Part  IV\n",
    "\n",
    "## 0. Setup token\n",
    "<br>\n",
    "<div class=\"alert alert-block alert-danger\">\n",
    "Do not push your token to GitHub!\n",
    "</div>"
   ]
  },
  {
   "cell_type": "code",
   "execution_count": null,
   "metadata": {
    "collapsed": true
   },
   "outputs": [],
   "source": [
    "import requests\n",
    "import pandas as pd\n",
    "from IPython.core.display import HTML\n",
    "\n",
    "from token_config import oep_url, get_oep_token\n",
    "\n",
    "# token\n",
    "your_token = get_oep_token()"
   ]
  },
  {
   "cell_type": "markdown",
   "metadata": {},
   "source": [
    "## 1. Select data"
   ]
  },
  {
   "cell_type": "code",
   "execution_count": null,
   "metadata": {
    "collapsed": false
   },
   "outputs": [],
   "source": [
    "# select powerplant data\n",
    "schema = 'supply'\n",
    "table = 'ego_dp_conv_powerplant'\n",
    "where = 'version=v0.2.10'\n",
    "\n",
    "conv_powerplants = requests.get(oep_url+'/api/v0/schema/'+schema+'/tables/'+table+'/rows/?where='+where, )\n",
    "conv_powerplants.status_code"
   ]
  },
  {
   "cell_type": "markdown",
   "metadata": {},
   "source": [
    "<div class=\"alert alert-block alert-info\">\n",
    "**200** succesfully selected data! <br>\n",
    "</div>"
   ]
  },
  {
   "cell_type": "markdown",
   "metadata": {},
   "source": [
    "## 2. Make a pandas dataframe"
   ]
  },
  {
   "cell_type": "code",
   "execution_count": null,
   "metadata": {
    "collapsed": false
   },
   "outputs": [],
   "source": [
    "df_pp = pd.DataFrame(conv_powerplants.json())"
   ]
  },
  {
   "cell_type": "markdown",
   "metadata": {},
   "source": [
    "## 3. Make calculations\n",
    "\n",
    "Get an overview of your DataFrame:"
   ]
  },
  {
   "cell_type": "code",
   "execution_count": null,
   "metadata": {
    "collapsed": true
   },
   "outputs": [],
   "source": [
    "df_pp.info()"
   ]
  },
  {
   "cell_type": "markdown",
   "metadata": {},
   "source": [
    "Sum the installed Capacity by fuels and add the Unit MW to a new column."
   ]
  },
  {
   "cell_type": "code",
   "execution_count": null,
   "metadata": {
    "collapsed": false
   },
   "outputs": [],
   "source": [
    "results = df_pp[['capacity','fuel']].groupby('fuel').sum()\n",
    "results['units'] = 'MW'\n",
    "results"
   ]
  },
  {
   "cell_type": "code",
   "execution_count": null,
   "metadata": {
    "collapsed": true
   },
   "outputs": [],
   "source": [
    "# Write DataFrame as csv\n",
    "results.to_csv('Conventional_powerplants_germany.csv',\n",
    "                        sep=',',\n",
    "                        float_format='%.3f',\n",
    "                        decimal='.',\n",
    "                        date_format='%Y-%m-%d',\n",
    "                        encoding='utf-8',\n",
    "                        if_exists=\"replace\")\n"
   ]
  },
  {
   "cell_type": "code",
   "execution_count": null,
   "metadata": {
    "collapsed": false
   },
   "outputs": [],
   "source": [
    "# Write the results as xlsx file\n",
    "writer = pd.ExcelWriter('Conventional_powerplants_germany.xlsx', engine='xlsxwriter')\n",
    "\n",
    "# write results of installed Capacity by fuels\n",
    "results.to_excel(writer, index=False, sheet_name='Installed Capacities by fuel')\n",
    "\n",
    "# write orgininal data in second sheet\n",
    "df_pp.to_excel(writer, index=False, sheet_name='Conventional Powerplants')\n",
    "\n",
    "# Close the Pandas Excel writer and output the Excel file.\n",
    "writer.save()"
   ]
  }
 ],
 "metadata": {
  "kernelspec": {
   "display_name": "Python 3",
   "language": "python",
   "name": "python3"
  },
  "language_info": {
   "codemirror_mode": {
    "name": "ipython",
    "version": 3
   },
   "file_extension": ".py",
   "mimetype": "text/x-python",
   "name": "python",
   "nbconvert_exporter": "python",
   "pygments_lexer": "ipython3",
   "version": "3.5.2"
  }
 },
 "nbformat": 4,
 "nbformat_minor": 1
}
