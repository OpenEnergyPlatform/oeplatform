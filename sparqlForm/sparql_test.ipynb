{
 "metadata": {
  "language_info": {
   "codemirror_mode": {
    "name": "ipython",
    "version": 3
   },
   "file_extension": ".py",
   "mimetype": "text/x-python",
   "name": "python",
   "nbconvert_exporter": "python",
   "pygments_lexer": "ipython3",
   "version": "3.6.5-final"
  },
  "orig_nbformat": 2,
  "kernelspec": {
   "name": "python3",
   "display_name": "Python 3",
   "language": "python"
  }
 },
 "nbformat": 4,
 "nbformat_minor": 2,
 "cells": [
  {
   "cell_type": "code",
   "execution_count": 24,
   "metadata": {},
   "outputs": [],
   "source": [
    "import rdflib\n",
    "\n",
    "def findConceptName(ontologyPath, term):\n",
    "    g = rdflib.Graph()\n",
    "    g.parse (ontologyPath, format='turtle')\n",
    "    variable1= \"\".join([\"<http://openenergy-platform.org/ontology/oeo/\", term , \">\"])\n",
    "    query= ' '.join([\"select distinct ?o where {\", variable1,\" rdfs:label ?o }  LIMIT 1 \"])\n",
    "    result = g.query(query)\n",
    "    for row in result:\n",
    "        return str(row[0])\n",
    "        "
   ]
  },
  {
   "cell_type": "code",
   "execution_count": 47,
   "metadata": {},
   "outputs": [
    {
     "output_type": "stream",
     "name": "stdout",
     "text": [
      "study report\n"
     ]
    }
   ],
   "source": [
    "concept = findConceptName('/Users/venkateshmurugadas/oeplatform/sparqlForm/kg_files/oeoMerged.ttl','OEO_00020012')\n",
    "print(concept)"
   ]
  },
  {
   "cell_type": "code",
   "execution_count": 114,
   "metadata": {},
   "outputs": [],
   "source": [
    "from SPARQLWrapper import SPARQLWrapper, RDFXML, GET, XML , JSON\n",
    "from rdflib import Graph\n",
    "import urllib.request\n",
    "\n",
    "proxy_support = urllib.request.ProxyHandler({})\n",
    "opener = urllib.request.build_opener(proxy_support)\n",
    "urllib.request.install_opener(opener)"
   ]
  },
  {
   "cell_type": "code",
   "execution_count": 18,
   "metadata": {},
   "outputs": [
    {
     "output_type": "stream",
     "name": "stdout",
     "text": [
      "{'head': {'vars': ['subject', 'item']}, 'results': {'bindings': [{'subject': {'type': 'uri', 'value': 'https://openenergy-platform.org/thing/Politikszenarien_VIII'}, 'item': {'type': 'literal', 'value': 'Politikszenarien VIII'}}, {'subject': {'type': 'uri', 'value': 'https://openenergy-platform.org/thing/Untersuchungen_zur_Energiestrategie_Brandenburgs'}, 'item': {'type': 'literal', 'value': 'Untersuchungen zur Energiestrategie Brandenburgs'}}, {'subject': {'type': 'uri', 'value': 'https://openenergy-platform.org/thing/Klimapfade_für_Deutschland'}, 'item': {'type': 'literal', 'value': 'Klimapfade für Deutschland'}}, {'subject': {'type': 'uri', 'value': 'https://openenergy-platform.org/thing/Zukunft_Stromsystem'}, 'item': {'type': 'literal', 'value': 'Zukunft Stromsystem'}}, {'subject': {'type': 'uri', 'value': 'https://openenergy-platform.org/thing/Klimaschutzszenario_2050'}, 'item': {'type': 'literal', 'value': 'Klimaschutzszenario 2050'}}, {'subject': {'type': 'uri', 'value': 'https://openenergy-platform.org/thing/Entwicklung_der_Gebäudewärme_und_Rückkopplung_mit_dem_Energiesystem_in__95%_THG_Klimazielszenarien'}, 'item': {'type': 'literal', 'value': 'Entwicklung der Gebäudewärme und Rückkopplung mit dem Energiesystem in -95% THG Klimazielszenarien'}}]}}\n"
     ]
    }
   ],
   "source": [
    "from SPARQLWrapper import SPARQLWrapper, RDFXML, GET, XML , JSON\n",
    "import urllib.request\n",
    "import pprint\n",
    "\n",
    "proxy_support = urllib.request.ProxyHandler({})\n",
    "opener = urllib.request.build_opener(proxy_support)\n",
    "urllib.request.install_opener(opener)\n",
    "sparql_query_endpoint = SPARQLWrapper(\"http://localhost:3030/ds/sparql\")\n",
    "sparql_query_endpoint.setMethod(GET)\n",
    "sparql_query_endpoint.setQuery(\n",
    "    \"\"\"\n",
    "    PREFIX rdf: <http://www.w3.org/1999/02/22-rdf-syntax-ns#>\n",
    "    PREFIX rdfs: <http://www.w3.org/2000/01/rdf-schema#>\n",
    "    prefix dc: <http://purl.org/dc/elements/1.1/>\n",
    "    prefix dbo: <http://dbpedia.org/ontology/>\n",
    "    prefix OEO_KG: <https://openenergy-platform.org/thing/> \n",
    "    prefix OEO: <https://openenergy-platform.org/ontology/oeo/>\n",
    "\n",
    "    SELECT ?subject ?item\n",
    "    WHERE {\n",
    "    ?subject a OEO:OEO_00020012.\n",
    "    ?subject dc:title ?item\n",
    "    }\n",
    "    \"\"\"\n",
    ")\n",
    "sparql_query_endpoint.setReturnFormat(JSON)\n",
    "results = sparql_query_endpoint.query().convert()\n",
    "study_names_list = []\n",
    "study_name_uri_dict =  {}\n",
    "for i in range(len(results['results']['bindings'])):\n",
    "    study_name_uri_dict[results['results']['bindings'][i]['item']['value']] = results['results']['bindings'][i]['subject']['value']\n",
    "    study_names_list.append(results['results']['bindings'][i]['item']['value'])\n",
    "\n",
    "print(results)\n",
    "# return josinify(study_name_uri_dict)"
   ]
  },
  {
   "cell_type": "code",
   "execution_count": 8,
   "metadata": {},
   "outputs": [
    {
     "output_type": "stream",
     "name": "stdout",
     "text": [
      "dict_keys(['head', 'results'])\n"
     ]
    }
   ],
   "source": [
    "print(results.keys())"
   ]
  },
  {
   "cell_type": "code",
   "execution_count": 124,
   "metadata": {},
   "outputs": [],
   "source": [
    "sparql = SPARQLWrapper(\"http://localhost:3030/ds/sparql\")\n",
    "sparql.setMethod(GET)\n",
    "# sparql.setQuery(\"\"\"\n",
    "#    DESCRIBE <https://openenergy-platform.org/thing/Entwicklung_der_Gebäudewärme_und_Rückkopplung_mit_dem_Energiesystem_in__95%_THG_Klimazielszenarien>\n",
    "# \"\"\")\n",
    "sparql.setQuery(\"\"\"\n",
    "    PREFIX rdf: <http://www.w3.org/1999/02/22-rdf-syntax-ns#>\n",
    "    PREFIX rdfs: <http://www.w3.org/2000/01/rdf-schema#>\n",
    "    PREFIX owl: <http://www.w3.org/2002/07/owl#>\n",
    "    PREFIX xsd: <http://www.w3.org/2001/XMLSchema#>\n",
    "    PREFIX OEO_KG: <https://openenergy-platform.org/thing/>\n",
    "\n",
    "    DESCRIBE OEO_KG:Klimaschutzszenario_2050\n",
    "     \"\"\")"
   ]
  },
  {
   "cell_type": "code",
   "execution_count": 125,
   "metadata": {},
   "outputs": [],
   "source": [
    "sparql.setReturnFormat(XML)\n",
    "results = sparql.query().convert()\n",
    "# print(results)\n",
    "import pprint\n",
    "xml_value = results.serialize(format='xml')\n",
    "xml_value = str(xml_value, 'utf-8')\n",
    "\n",
    "\n",
    "\n",
    "\n",
    "\n"
   ]
  },
  {
   "cell_type": "code",
   "execution_count": 126,
   "metadata": {},
   "outputs": [
    {
     "output_type": "stream",
     "name": "stdout",
     "text": [
      "<?xml version=\"1.0\" encoding=\"UTF-8\"?>\n<rdf:RDF\n   xmlns:OEO=\"https://openenergy-platform.org/ontology/oeo/\"\n   xmlns:dbo=\"http://dbpedia.org/ontology/\"\n   xmlns:dc=\"http://purl.org/dc/elements/1.1/\"\n   xmlns:npg=\"http://ns.nature.com/terms/\"\n   xmlns:obo=\"http://purl.obolibrary.org/obo/\"\n   xmlns:rdf=\"http://www.w3.org/1999/02/22-rdf-syntax-ns#\"\n   xmlns:schema=\"https://schema.org/\"\n>\n  <rdf:Description rdf:about=\"https://openenergy-platform.org/thing/Klimaschutzszenario_2050\">\n    <schema:url>https://www.oeko.de/oekodoc/2451/2015-608-de.pdf</schema:url>\n    <OEO:OEO_00000506 rdf:resource=\"https://openenergy-platform.org/thing/_Hans-Joachim_Ziesing\"/>\n    <OEO:OEO_00000506 rdf:resource=\"https://openenergy-platform.org/thing/_Tobias_Fleiter\"/>\n    <OEO:OEO_00000506 rdf:resource=\"https://openenergy-platform.org/thing/_Wolfgang_Schade\"/>\n    <OEO:OEO_00000506 rdf:resource=\"https://openenergy-platform.org/thing/_Benjamin_Greiner\"/>\n    <OEO:OEO_00000506 rdf:resource=\"https://openenergy-platform.org/thing/_Wolfram_Jörß\"/>\n    <OEO:OEO_00000506 rdf:resource=\"https://openenergy-platform.org/thing/_Johannes_Hartwig\"/>\n    <OEO:OEO_00000506 rdf:resource=\"https://openenergy-platform.org/thing/_Hannes_Böttcher\"/>\n    <OEO:OEO_00000506 rdf:resource=\"https://openenergy-platform.org/thing/_Ruth_Blanck\"/>\n    <OEO:OEO_00000506 rdf:resource=\"https://openenergy-platform.org/thing/_Margarethe_Scheffler\"/>\n    <OEO:OEO_00000506 rdf:resource=\"https://openenergy-platform.org/thing/Julia_Repenning\"/>\n    <OEO:OEO_00000506 rdf:resource=\"https://openenergy-platform.org/thing/_Wolfgang_Eichhammer\"/>\n    <obo:IAO_0000136 rdf:resource=\"https://openenergy-platform.org/thing/KSz_2050\"/>\n    <OEO:OEO_00000506 rdf:resource=\"https://openenergy-platform.org/thing/_Hauke_Hermann\"/>\n    <OEO:OEO_00000506 rdf:resource=\"https://openenergy-platform.org/thing/_Klaus_Henneberg\"/>\n    <OEO:OEO_00000506 rdf:resource=\"https://openenergy-platform.org/thing/_Rainer_Elsland\"/>\n    <OEO:OEO_00000506 rdf:resource=\"https://openenergy-platform.org/thing/_Sibylle_Braungardt\"/>\n    <OEO:OEO_00000506 rdf:resource=\"https://openenergy-platform.org/thing/_Kirsten_Wiegmann\"/>\n    <OEO:OEO_00000506 rdf:resource=\"https://openenergy-platform.org/thing/_Judit_Kockat\"/>\n    <OEO:OEO_00000506 rdf:resource=\"https://openenergy-platform.org/thing/_Ralph_Harthan\"/>\n    <dbo:abstract>Creation and analysation of scenarios for different political climate levels of ambition until 2050</dbo:abstract>\n    <OEO:OEO_00000506 rdf:resource=\"https://openenergy-platform.org/thing/_Felix_Chri._Matthes\"/>\n    <OEO:OEO_00000506 rdf:resource=\"https://openenergy-platform.org/thing/_Frank_Sensfuß\"/>\n    <npg:publicationYear rdf:datatype=\"http://www.w3.org/2001/XMLSchema#integer\">2015</npg:publicationYear>\n    <dc:title>Klimaschutzszenario 2050</dc:title>\n    <OEO:OEO_00000506 rdf:resource=\"https://openenergy-platform.org/thing/_Katja_Schumachen\"/>\n    <OEO:OEO_00000506 rdf:resource=\"https://openenergy-platform.org/thing/_Carina_Zell-Ziegler\"/>\n    <OEO:OEO_00000506 rdf:resource=\"https://openenergy-platform.org/thing/_Günter_Dehoust\"/>\n    <OEO:OEO_00000506 rdf:resource=\"https://openenergy-platform.org/thing/_Hannah_Förster\"/>\n    <OEO:OEO_00000506 rdf:resource=\"https://openenergy-platform.org/thing/_Lukas_Emele\"/>\n    <dbo:subtitle>2. Endbericht</dbo:subtitle>\n    <rdf:type rdf:resource=\"https://openenergy-platform.org/ontology/oeo/OEO_00020012\"/>\n    <OEO:OEO_00000506 rdf:resource=\"https://openenergy-platform.org/thing/_Ben_Pfluger\"/>\n    <OEO:OEO_00000506 rdf:resource=\"https://openenergy-platform.org/thing/_Sylive_Ludig\"/>\n    <OEO:OEO_00000506 rdf:resource=\"https://openenergy-platform.org/thing/_Charlotte_Loreck\"/>\n    <OEO:OEO_00000506 rdf:resource=\"https://openenergy-platform.org/thing/_Barbara_Schlomann\"/>\n  </rdf:Description>\n</rdf:RDF>\n\n"
     ]
    }
   ],
   "source": [
    "print(xml_value)"
   ]
  },
  {
   "cell_type": "code",
   "execution_count": 121,
   "metadata": {},
   "outputs": [
    {
     "output_type": "stream",
     "name": "stdout",
     "text": [
      "{http://www.w3.org/1999/02/22-rdf-syntax-ns#}RDF {} \n  \n{http://www.w3.org/1999/02/22-rdf-syntax-ns#}Description {'{http://www.w3.org/1999/02/22-rdf-syntax-ns#}about': 'https://openenergy-platform.org/thing/Klimapfade_für_Deutschland'} \n    \n{https://openenergy-platform.org/ontology/oeo/}OEO_00000506 {'{http://www.w3.org/1999/02/22-rdf-syntax-ns#}resource': 'https://openenergy-platform.org/thing/_Patrick_Herhold'} None\n{https://openenergy-platform.org/ontology/oeo/}OEO_00000506 {'{http://www.w3.org/1999/02/22-rdf-syntax-ns#}resource': 'https://openenergy-platform.org/thing/_Florian_Rechenmacher'} None\n{https://openenergy-platform.org/ontology/oeo/}OEO_00000506 {'{http://www.w3.org/1999/02/22-rdf-syntax-ns#}resource': 'https://openenergy-platform.org/thing/_Stefan_Schönberger'} None\n{http://purl.org/dc/elements/1.1/}title {} Klimapfade für Deutschland\n{http://purl.obolibrary.org/obo/}IAO_0000136 {'{http://www.w3.org/1999/02/22-rdf-syntax-ns#}resource': 'https://openenergy-platform.org/thing/BDI_study'} None\n{https://openenergy-platform.org/ontology/oeo/}OEO_00000506 {'{http://www.w3.org/1999/02/22-rdf-syntax-ns#}resource': 'https://openenergy-platform.org/thing/_Jens_Burchardt'} None\n{http://ns.nature.com/terms/}publicationYear {'{http://www.w3.org/1999/02/22-rdf-syntax-ns#}datatype': 'http://www.w3.org/2001/XMLSchema#integer'} 2018\n{https://openenergy-platform.org/ontology/oeo/}OEO_00000506 {'{http://www.w3.org/1999/02/22-rdf-syntax-ns#}resource': 'https://openenergy-platform.org/thing/_Andreas_Kemmler'} None\n{https://openenergy-platform.org/ontology/oeo/}OEO_00000506 {'{http://www.w3.org/1999/02/22-rdf-syntax-ns#}resource': 'https://openenergy-platform.org/thing/_Marco_Wünsch'} None\n{https://openenergy-platform.org/ontology/oeo/}OEO_00000506 {'{http://www.w3.org/1999/02/22-rdf-syntax-ns#}resource': 'https://openenergy-platform.org/thing/_Almut_Kirchner'} None\n{http://dbpedia.org/ontology/}abstract {} Analysis of technical and economic potentials and measures to reduce GHG\n{https://openenergy-platform.org/ontology/oeo/}OEO_00000506 {'{http://www.w3.org/1999/02/22-rdf-syntax-ns#}resource': 'https://openenergy-platform.org/thing/Philipp_Gerbert'} None\n{http://www.w3.org/1999/02/22-rdf-syntax-ns#}type {'{http://www.w3.org/1999/02/22-rdf-syntax-ns#}resource': 'https://openenergy-platform.org/ontology/oeo/OEO_00020012'} None\n"
     ]
    }
   ],
   "source": [
    "import xml.etree.ElementTree as ET\n",
    "root = ET.fromstring(xml_value)\n",
    "\n",
    "\n",
    "\n",
    "for i in root.iter():\n",
    "    print(i.tag, i.attrib , i.text)\n",
    "    # print(i.text)"
   ]
  },
  {
   "cell_type": "code",
   "execution_count": 98,
   "metadata": {},
   "outputs": [
    {
     "output_type": "stream",
     "name": "stdout",
     "text": [
      "{http://www.w3.org/1999/02/22-rdf-syntax-ns#}Description\n"
     ]
    }
   ],
   "source": [
    "for i in root.iterfind('{http://www.w3.org/1999/02/22-rdf-syntax-ns#}Description'):\n",
    "    print(i.tag)"
   ]
  },
  {
   "cell_type": "code",
   "execution_count": 34,
   "metadata": {},
   "outputs": [],
   "source": [
    "dict_test = {\"2019\": \"http://ns.nature.com/terms/publicationYear\",\n",
    "\"Entwicklung der Gebäudewärme und Rückkopplung mit dem Energiesystem in -95% THG Klimazielszenarien\": \"http://purl.org/dc/elements/1.1/title\",\n",
    "\"Teilbericht im Rahmen des Projektes: TRANSFORMATIONSPFADE IM WÄRMESEKTOR – Betriebs- und volkswirtschaftliche Betrachtung der Sektorkopplung mit dem Fokus Fernwärme mit hohen Anteilen konventioneller KWK-Erzeugung und Rückkopplung zum Gesamtenergieversorgungssystem\": \"http://dbpedia.org/ontology/subtitle\",\n",
    "\"Transformation of the heat sector against the background of economic aspects of the sector coupling and achievement of the sector goal\": \"http://dbpedia.org/ontology/abstract\",\n",
    "\"https://openenergy-platform.org/ontology/oeo/OEO_00020012\": \"http://www.w3.org/1999/02/22-rdf-syntax-ns#type\",\n",
    "\"https://openenergy-platform.org/thing/Norman_Gerhardt\": \"https://openenergy-platform.org/ontology/oeo/OEO_00000506\",\n",
    "\"https://openenergy-platform.org/thing/TrafoFW_study\": \"http://purl.obolibrary.org/obo/IAO_0000136\",\n",
    "\"https://openenergy-platform.org/thing/_Elisabeth_Klara_Buchmann\": \"https://openenergy-platform.org/ontology/oeo/OEO_00000506\",\n",
    "\"https://openenergy-platform.org/thing/_Irina_Ganal\": \"https://openenergy-platform.org/ontology/oeo/OEO_00000506\",\n",
    "\"https://openenergy-platform.org/thing/_Juan_Rodriguez\": \"https://openenergy-platform.org/ontology/oeo/OEO_00000506\",\n",
    "\"https://openenergy-platform.org/thing/_Kilian_Stroh\": \"https://openenergy-platform.org/ontology/oeo/OEO_00000506\",\n",
    "\"https://openenergy-platform.org/thing/_Mareike_Jentsch\": \"https://openenergy-platform.org/ontology/oeo/OEO_00000506\",\n",
    "\"https://www.iee.fraunhofer.de/content/dam/iwes-neu/energiesystemtechnik/de/Dokumente/Veroeffentlichungen/2019/2019_Feb_Bericht_Fraunhofer_IEE_-_Transformation_Waerme_2030_2050.pdf\":\n",
    "\"https://schema.org/url\"}"
   ]
  },
  {
   "cell_type": "code",
   "execution_count": 41,
   "metadata": {},
   "outputs": [
    {
     "output_type": "stream",
     "name": "stdout",
     "text": [
      "{'2019': 'publicationYear', 'Entwicklung der Gebäudewärme und Rückkopplung mit dem Energiesystem in -95% THG Klimazielszenarien': 'title', 'Teilbericht im Rahmen des Projektes: TRANSFORMATIONSPFADE IM WÄRMESEKTOR – Betriebs- und volkswirtschaftliche Betrachtung der Sektorkopplung mit dem Fokus Fernwärme mit hohen Anteilen konventioneller KWK-Erzeugung und Rückkopplung zum Gesamtenergieversorgungssystem': 'subtitle', 'Transformation of the heat sector against the background of economic aspects of the sector coupling and achievement of the sector goal': 'abstract', 'study report': 'type', 'Norman_Gerhardt': 'has author', 'TrafoFW_study': 'IAO_0000136', '_Elisabeth_Klara_Buchmann': 'has author', '_Irina_Ganal': 'has author', '_Juan_Rodriguez': 'has author', '_Kilian_Stroh': 'has author', '_Mareike_Jentsch': 'has author', 'https://www.iee.fraunhofer.de/content/dam/iwes-neu/energiesystemtechnik/de/Dokumente/Veroeffentlichungen/2019/2019_Feb_Bericht_Fraunhofer_IEE_-_Transformation_Waerme_2030_2050.pdf': 'url'}\n"
     ]
    }
   ],
   "source": [
    "import re\n",
    "ontology_file_path = \"/Users/venkateshmurugadas/oeplatform/sparqlForm/kg_files/oeoMerged.ttl\"\n",
    "concept_pattern = \"OEO\\_[0-9]*\"\n",
    "temp_study_report_dict = {}\n",
    "study_report_dict = {}\n",
    "authors_list = []\n",
    "for k,v in dict_test.items():\n",
    "    v = re.split(\"\\/|#\",v)[-1]\n",
    "    if re.match(concept_pattern,v):\n",
    "        v = findConceptName(ontology_file_path,v)\n",
    "    if v != \"url\":\n",
    "        k = re.split(\"\\/\",k)[-1]\n",
    "        if re.match(concept_pattern,k):\n",
    "            k = findConceptName(ontology_file_path,k)\n",
    "        if v == \"has_author\":\n",
    "            authors_list.append(k)\n",
    "    study_report_dict[v]=k\n"
   ]
  },
  {
   "cell_type": "code",
   "execution_count": null,
   "metadata": {},
   "outputs": [],
   "source": []
  }
 ]
}